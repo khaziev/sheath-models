{
 "cells": [
  {
   "cell_type": "code",
   "execution_count": 1,
   "metadata": {},
   "outputs": [],
   "source": [
    "import matplotlib.pyplot as plt\n",
    "import numpy as np\n",
    "import pandas as pd\n",
    "import scipy.constants as const\n",
    "from scipy import integrate\n",
    "%matplotlib inline"
   ]
  },
  {
   "cell_type": "markdown",
   "metadata": {},
   "source": [
    "## Introduction\n",
    "\n",
    "Standeby developed a collision presheath model based on Rieman plasma sheath set of equations. The model is collisionless, therefore it does not include ionization in the plasma sheath. The paper is centerer around the idea that Debye Sheath (DS) dissapeard at the grazing magnetic angles ($\\alpha < \\alpha^*$), then the Collisional Sheath (CS) can be completely characterized by the set of Rieman plasma sheath equations."
   ]
  },
  {
   "cell_type": "markdown",
   "metadata": {},
   "source": [
    "## Governing equations\n",
    "\n",
    "All of the plasma sheath properties are connected to the normalized velocity of the wall approach $u$, which is determined as \n",
    "$$f\\left(u\\right) = c^2 + 2 \\log\\left(u/u_o\\right) - u^2 - \\left[\\frac{c^2+ 1}{c \\cos \\alpha} - \\tan \\alpha \\left(\\frac{u^2 + 1}{u}\\right)\\right]^2$$\n",
    "\n",
    "Where $c$ is a Mach number at the collisonal sheath entrance, and according to Chodura's definition it should be set to 1. For $z \\rightarrow \\infty$\n",
    "\n",
    "$$ u_0 = c \\sin \\alpha$$\n",
    "$$ v_0 = 0$$\n",
    "$$ v_0 = c \\cos \\alpha$$\n",
    "\n",
    "The resulting equation is valid for angle less than \n",
    "$$ \\alpha^* = \\sin^{-1} \\left[ \\sqrt{\\frac{2 \\pi m_e}{m_i} \\left( 1+ \\frac{T_i}{T_e}\\right)} \\right]$$"
   ]
  },
  {
   "cell_type": "code",
   "execution_count": 2,
   "metadata": {},
   "outputs": [],
   "source": [
    "plasma_params = {'T_e': 1., 'T_i': 1., 'm_i': 2e-3/const.N_A, 'gamma': 1, 'c': 1., 'alpha': np.pi/180*1}"
   ]
  },
  {
   "cell_type": "code",
   "execution_count": 3,
   "metadata": {
    "collapsed": true
   },
   "outputs": [],
   "source": [
    "def calc_stangeby_params(plasma_params):\n",
    "    '''\n",
    "    Calculate parameters of the plasma sheath for stangeby's model\n",
    "    ----------------------------------------------\n",
    "    \n",
    "    plasma_params - dictionary like\n",
    "    '''\n",
    "    plasma_params['u0'] = plasma_params['c'] *np.sin(plasma_params['alpha'])\n",
    "    \n",
    "    #calculate argument\n",
    "    argument = 2 *np.pi *const.m_e /plasma_params['m_i'] *(1. + plasma_params['T_i']/plasma_params['T_e'])\n",
    "    plasma_params['alpha_critical'] = np.arcsin(np.sqrt(argument))\n",
    "    plasma_params['mach_cs_critical'] = np.sin(plasma_params['alpha'])/np.sqrt(argument)"
   ]
  },
  {
   "cell_type": "code",
   "execution_count": 4,
   "metadata": {},
   "outputs": [
    {
     "data": {
      "text/plain": [
       "{'T_e': 1.0,\n",
       " 'T_i': 1.0,\n",
       " 'alpha': 0.017453292519943295,\n",
       " 'alpha_critical': 0.058743482480524037,\n",
       " 'c': 1.0,\n",
       " 'gamma': 1,\n",
       " 'm_i': 3.32107784206438e-27,\n",
       " 'mach_cs_critical': 0.29726613393647378,\n",
       " 'u0': 0.017452406437283512}"
      ]
     },
     "execution_count": 4,
     "metadata": {},
     "output_type": "execute_result"
    }
   ],
   "source": [
    "#calculate all oft he parameters needed for Stangeby's model\n",
    "calc_stangeby_params(plasma_params)\n",
    "plasma_params"
   ]
  },
  {
   "cell_type": "code",
   "execution_count": 5,
   "metadata": {},
   "outputs": [],
   "source": [
    "def func_f(u, plasma_params):\n",
    "    c = plasma_params['c']\n",
    "    u0 = plasma_params['u0']\n",
    "    alpha = plasma_params['alpha']\n",
    "    \n",
    "    #find and calculte the result of te function\n",
    "    w = (c + 1./c) /np.cos(alpha) - np.tan(alpha) * (u + 1./u)\n",
    "    return c**2 + 2. *np.log(u/u0) - u**2 - w**2"
   ]
  },
  {
   "cell_type": "code",
   "execution_count": 6,
   "metadata": {},
   "outputs": [
    {
     "data": {
      "text/plain": [
       "2.1913430557132036"
      ]
     },
     "execution_count": 6,
     "metadata": {},
     "output_type": "execute_result"
    }
   ],
   "source": [
    "func_f(0.2, plasma_params)"
   ]
  },
  {
   "cell_type": "markdown",
   "metadata": {},
   "source": [
    "The classical equation dependence between $u$ and $\\zeta$ is defined by integral equation\n",
    "\n",
    "$$ \\zeta(u) = \\int_u^1 \\mathbf{d} u \\frac{1-u^2}{u \\sqrt{f(u)}}$$"
   ]
  },
  {
   "cell_type": "code",
   "execution_count": 7,
   "metadata": {
    "collapsed": true
   },
   "outputs": [],
   "source": [
    "def integrand_u(u, plasma_params):\n",
    "    '''\n",
    "    Defines integrand for zeta function\n",
    "    -------------------------------------------\n",
    "    \n",
    "    parameters:\n",
    "    u - float like\n",
    "    plasma_params - dictionary like\n",
    "    '''\n",
    "    (1. - u**2) /u /np.sqrt(func_f(u, plasma_params))\n",
    "    return (1. - u**2) /u /np.sqrt(func_f(u, plasma_params))"
   ]
  },
  {
   "cell_type": "code",
   "execution_count": 8,
   "metadata": {},
   "outputs": [],
   "source": [
    "def get_sheath_zeta(u_space, plasma_params, max_u = 1):\n",
    "    '''\n",
    "    \n",
    "    Find values of zeta for a given list of the u values\n",
    "    -----------------------------------------------------\n",
    "    \n",
    "    u_space - sequence (ex. list, np.array), contains values between 0 and 1\n",
    "    plasma_params - dictionary like\n",
    "    max_u - float, if set to 1, provide classic profile\n",
    "    '''\n",
    "    #result = [integrate.romberg(integrand_u, u, max_u, args=(plasma_params,), show=True,divmax=100) for u in u_space]\n",
    "    result = [integrate.fixed_quad(integrand_u, u, max_u, args=(plasma_params,), n=500)[0] for u in u_space]\n",
    "    return result"
   ]
  },
  {
   "cell_type": "code",
   "execution_count": 9,
   "metadata": {},
   "outputs": [],
   "source": [
    "n_points = 100\n",
    "u_space = np.linspace(0, 1, n_points)\n",
    "\n",
    "zeta_space_classic = get_sheath_zeta(u_space, plasma_params)\n",
    "zeta_space_stangeby = get_sheath_zeta(u_space, plasma_params, max_u = plasma_params['mach_cs_critical'])"
   ]
  },
  {
   "cell_type": "code",
   "execution_count": 10,
   "metadata": {},
   "outputs": [
    {
     "data": {
      "image/png": "[encoded data removed]",
      "text/plain": [
       "<matplotlib.figure.Figure at 0x7f6e338be550>"
      ]
     },
     "metadata": {},
     "output_type": "display_data"
    }
   ],
   "source": [
    "fig, ax = plt.subplots(figsize=(6,6))\n",
    "\n",
    "plt.plot(zeta_space_classic, u_space)\n",
    "plt.plot(zeta_space_stangeby, u_space)\n",
    "plt.xlim(0, 10)\n",
    "plt.show()"
   ]
  },
  {
   "cell_type": "markdown",
   "metadata": {},
   "source": [
    "## Import precalculated Stangeby's coeficients\n",
    "\n",
    "Stangeby has evaluated coefficients of his model for grazing magnetic angles"
   ]
  },
  {
   "cell_type": "code",
   "execution_count": 11,
   "metadata": {
    "collapsed": true
   },
   "outputs": [],
   "source": [
    "normal_coeff_file = 'table_c1.csv'\n",
    "grazing_coeff_file = 'table_c2.csv'"
   ]
  },
  {
   "cell_type": "code",
   "execution_count": 12,
   "metadata": {},
   "outputs": [
    {
     "data": {
      "text/html": [
       "<div>\n",
       "<table border=\"1\" class=\"dataframe\">\n",
       "  <thead>\n",
       "    <tr style=\"text-align: right;\">\n",
       "      <th></th>\n",
       "      <th>angle</th>\n",
       "      <th>min_zeta</th>\n",
       "      <th>max_zeta</th>\n",
       "      <th>a6</th>\n",
       "      <th>a5</th>\n",
       "      <th>a4</th>\n",
       "      <th>a3</th>\n",
       "      <th>a2</th>\n",
       "      <th>a1</th>\n",
       "      <th>a0</th>\n",
       "    </tr>\n",
       "  </thead>\n",
       "  <tbody>\n",
       "    <tr>\n",
       "      <th>0</th>\n",
       "      <td>10</td>\n",
       "      <td>0</td>\n",
       "      <td>-1</td>\n",
       "      <td>14.875000</td>\n",
       "      <td>49.285000</td>\n",
       "      <td>64.338000</td>\n",
       "      <td>42.284000</td>\n",
       "      <td>15.14200</td>\n",
       "      <td>3.36460</td>\n",
       "      <td>0.9539</td>\n",
       "    </tr>\n",
       "    <tr>\n",
       "      <th>1</th>\n",
       "      <td>10</td>\n",
       "      <td>-1</td>\n",
       "      <td>-10</td>\n",
       "      <td>0.000009</td>\n",
       "      <td>0.000327</td>\n",
       "      <td>0.004742</td>\n",
       "      <td>0.035860</td>\n",
       "      <td>0.15259</td>\n",
       "      <td>0.36505</td>\n",
       "      <td>0.6092</td>\n",
       "    </tr>\n",
       "    <tr>\n",
       "      <th>2</th>\n",
       "      <td>5</td>\n",
       "      <td>0</td>\n",
       "      <td>-1</td>\n",
       "      <td>18.831000</td>\n",
       "      <td>62.159000</td>\n",
       "      <td>80.793000</td>\n",
       "      <td>52.830000</td>\n",
       "      <td>18.80600</td>\n",
       "      <td>4.11530</td>\n",
       "      <td>0.9438</td>\n",
       "    </tr>\n",
       "    <tr>\n",
       "      <th>3</th>\n",
       "      <td>5</td>\n",
       "      <td>-1</td>\n",
       "      <td>-10</td>\n",
       "      <td>0.000012</td>\n",
       "      <td>0.000417</td>\n",
       "      <td>0.005937</td>\n",
       "      <td>0.043777</td>\n",
       "      <td>0.17938</td>\n",
       "      <td>0.40338</td>\n",
       "      <td>0.5171</td>\n",
       "    </tr>\n",
       "    <tr>\n",
       "      <th>4</th>\n",
       "      <td>4</td>\n",
       "      <td>0</td>\n",
       "      <td>-1</td>\n",
       "      <td>20.226000</td>\n",
       "      <td>66.460000</td>\n",
       "      <td>85.922000</td>\n",
       "      <td>55.849000</td>\n",
       "      <td>19.76400</td>\n",
       "      <td>4.30040</td>\n",
       "      <td>0.9405</td>\n",
       "    </tr>\n",
       "  </tbody>\n",
       "</table>\n",
       "</div>"
      ],
      "text/plain": [
       "   angle  min_zeta  max_zeta         a6         a5         a4         a3  \\\n",
       "0     10         0        -1  14.875000  49.285000  64.338000  42.284000   \n",
       "1     10        -1       -10   0.000009   0.000327   0.004742   0.035860   \n",
       "2      5         0        -1  18.831000  62.159000  80.793000  52.830000   \n",
       "3      5        -1       -10   0.000012   0.000417   0.005937   0.043777   \n",
       "4      4         0        -1  20.226000  66.460000  85.922000  55.849000   \n",
       "\n",
       "         a2       a1      a0  \n",
       "0  15.14200  3.36460  0.9539  \n",
       "1   0.15259  0.36505  0.6092  \n",
       "2  18.80600  4.11530  0.9438  \n",
       "3   0.17938  0.40338  0.5171  \n",
       "4  19.76400  4.30040  0.9405  "
      ]
     },
     "execution_count": 12,
     "metadata": {},
     "output_type": "execute_result"
    }
   ],
   "source": [
    "df_normal = pd.read_csv(normal_coeff_file)\n",
    "df_normal.head()"
   ]
  },
  {
   "cell_type": "code",
   "execution_count": 13,
   "metadata": {},
   "outputs": [
    {
     "data": {
      "text/html": [
       "<div>\n",
       "<table border=\"1\" class=\"dataframe\">\n",
       "  <thead>\n",
       "    <tr style=\"text-align: right;\">\n",
       "      <th></th>\n",
       "      <th>mass</th>\n",
       "      <th>angle</th>\n",
       "      <th>min_zeta</th>\n",
       "      <th>max_zeta</th>\n",
       "      <th>a6</th>\n",
       "      <th>a5</th>\n",
       "      <th>a4</th>\n",
       "      <th>a3</th>\n",
       "      <th>a2</th>\n",
       "      <th>a1</th>\n",
       "      <th>a0</th>\n",
       "    </tr>\n",
       "  </thead>\n",
       "  <tbody>\n",
       "    <tr>\n",
       "      <th>0</th>\n",
       "      <td>1</td>\n",
       "      <td>4</td>\n",
       "      <td>0</td>\n",
       "      <td>-1</td>\n",
       "      <td>6.306900</td>\n",
       "      <td>21.751000</td>\n",
       "      <td>30.084000</td>\n",
       "      <td>21.648000</td>\n",
       "      <td>9.09520</td>\n",
       "      <td>2.69010</td>\n",
       "      <td>0.8324</td>\n",
       "    </tr>\n",
       "    <tr>\n",
       "      <th>1</th>\n",
       "      <td>1</td>\n",
       "      <td>4</td>\n",
       "      <td>-1</td>\n",
       "      <td>-10</td>\n",
       "      <td>0.000012</td>\n",
       "      <td>0.000420</td>\n",
       "      <td>0.005960</td>\n",
       "      <td>0.043776</td>\n",
       "      <td>0.17807</td>\n",
       "      <td>0.39509</td>\n",
       "      <td>0.4801</td>\n",
       "    </tr>\n",
       "    <tr>\n",
       "      <th>2</th>\n",
       "      <td>1</td>\n",
       "      <td>3</td>\n",
       "      <td>0</td>\n",
       "      <td>-1</td>\n",
       "      <td>1.145200</td>\n",
       "      <td>4.212000</td>\n",
       "      <td>6.422200</td>\n",
       "      <td>5.432000</td>\n",
       "      <td>3.04610</td>\n",
       "      <td>1.41740</td>\n",
       "      <td>0.6316</td>\n",
       "    </tr>\n",
       "    <tr>\n",
       "      <th>3</th>\n",
       "      <td>1</td>\n",
       "      <td>3</td>\n",
       "      <td>-1</td>\n",
       "      <td>-10</td>\n",
       "      <td>0.000011</td>\n",
       "      <td>0.000376</td>\n",
       "      <td>0.005315</td>\n",
       "      <td>0.038802</td>\n",
       "      <td>0.15667</td>\n",
       "      <td>0.34397</td>\n",
       "      <td>0.4032</td>\n",
       "    </tr>\n",
       "    <tr>\n",
       "      <th>4</th>\n",
       "      <td>1</td>\n",
       "      <td>2</td>\n",
       "      <td>0</td>\n",
       "      <td>-1</td>\n",
       "      <td>0.185520</td>\n",
       "      <td>0.741370</td>\n",
       "      <td>1.291300</td>\n",
       "      <td>1.366500</td>\n",
       "      <td>1.08940</td>\n",
       "      <td>0.75111</td>\n",
       "      <td>0.4219</td>\n",
       "    </tr>\n",
       "  </tbody>\n",
       "</table>\n",
       "</div>"
      ],
      "text/plain": [
       "   mass  angle  min_zeta  max_zeta        a6         a5         a4         a3  \\\n",
       "0     1      4         0        -1  6.306900  21.751000  30.084000  21.648000   \n",
       "1     1      4        -1       -10  0.000012   0.000420   0.005960   0.043776   \n",
       "2     1      3         0        -1  1.145200   4.212000   6.422200   5.432000   \n",
       "3     1      3        -1       -10  0.000011   0.000376   0.005315   0.038802   \n",
       "4     1      2         0        -1  0.185520   0.741370   1.291300   1.366500   \n",
       "\n",
       "        a2       a1      a0  \n",
       "0  9.09520  2.69010  0.8324  \n",
       "1  0.17807  0.39509  0.4801  \n",
       "2  3.04610  1.41740  0.6316  \n",
       "3  0.15667  0.34397  0.4032  \n",
       "4  1.08940  0.75111  0.4219  "
      ]
     },
     "execution_count": 13,
     "metadata": {},
     "output_type": "execute_result"
    }
   ],
   "source": [
    "df_grazing = pd.read_csv(grazing_coeff_file)\n",
    "df_grazing.head()"
   ]
  },
  {
   "cell_type": "markdown",
   "metadata": {},
   "source": [
    "$\\zeta$ is a normalized by larmour radius distance fom the wall"
   ]
  },
  {
   "cell_type": "markdown",
   "metadata": {},
   "source": [
    "## Preliminary plots of the plasma profiles"
   ]
  },
  {
   "cell_type": "markdown",
   "metadata": {},
   "source": [
    "## Setting up plasma parameters dictionary"
   ]
  },
  {
   "cell_type": "code",
   "execution_count": 14,
   "metadata": {
    "collapsed": true
   },
   "outputs": [],
   "source": [
    "plasma_params = {'T_e': 1, 'T_i': 1, 'm_i': 1e-3/const.N_A, 'gamma': 1}"
   ]
  },
  {
   "cell_type": "code",
   "execution_count": 15,
   "metadata": {},
   "outputs": [
    {
     "ename": "SyntaxError",
     "evalue": "unexpected EOF while parsing (<ipython-input-15-084931dca346>, line 2)",
     "output_type": "error",
     "traceback": [
      "\u001b[0;36m  File \u001b[0;32m\"<ipython-input-15-084931dca346>\"\u001b[0;36m, line \u001b[0;32m2\u001b[0m\n\u001b[0;31m    \u001b[0m\n\u001b[0m    ^\u001b[0m\n\u001b[0;31mSyntaxError\u001b[0m\u001b[0;31m:\u001b[0m unexpected EOF while parsing\n"
     ]
    }
   ],
   "source": [
    "def bohm_speed(params):\n",
    "    "
   ]
  },
  {
   "cell_type": "code",
   "execution_count": null,
   "metadata": {
    "collapsed": true
   },
   "outputs": [],
   "source": [
    "def zeta(z, rho_i)"
   ]
  }
 ],
 "metadata": {
  "kernelspec": {
   "display_name": "Python 2",
   "language": "python",
   "name": "python2"
  },
  "language_info": {
   "codemirror_mode": {
    "name": "ipython",
    "version": 3
   },
   "file_extension": ".py",
   "mimetype": "text/x-python",
   "name": "python",
   "nbconvert_exporter": "python",
   "pygments_lexer": "ipython3",
   "version": "3.4.5"
  }
 },
 "nbformat": 4,
 "nbformat_minor": 1
}
