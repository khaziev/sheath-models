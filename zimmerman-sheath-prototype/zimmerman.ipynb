{
 "cells": [
  {
   "cell_type": "code",
   "execution_count": 2,
   "metadata": {
    "collapsed": true
   },
   "outputs": [],
   "source": [
    "from scipy.integrate import odeint, romberg, quad\n",
    "import numpy as np\n",
    "import matplotlib.pyplot as plt\n",
    "\n",
    "\n",
    "%matplotlib inline"
   ]
  },
  {
   "cell_type": "code",
   "execution_count": 3,
   "metadata": {
    "collapsed": true
   },
   "outputs": [],
   "source": [
    "# plasma parameters\n",
    "\n",
    "#we need\n",
    "plasma_params = {'n_i': 1e16, 'T_e': 1, 'T_i': 1, 'm_i': 1}"
   ]
  },
  {
   "cell_type": "markdown",
   "metadata": {},
   "source": [
    "## Calculate plasma parameters"
   ]
  },
  {
   "cell_type": "markdown",
   "metadata": {},
   "source": [
    "Zimmermann's model is described by the the the system of ODEs"
   ]
  },
  {
   "cell_type": "markdown",
   "metadata": {},
   "source": [
    "$$\n",
    "\\begin{eqnarray}\n",
    "\\frac{\\partial V_x}{\\partial x} &=& \\frac{\\omega \\tau \\cos(\\alpha) V_x V_z + \\Delta +V_x^2}{1-V_x^2} \\\\\n",
    "\\frac{\\partial V_y}{\\partial x} &=& \\frac{\\omega \\tau \\sin (\\alpha) V_z - V_y}{V_x} \\\\\n",
    "\\frac{\\partial V_z}{\\partial x} &=& \\omega \\tau \\cos(\\alpha) - \\omega \\tau \\sin (\\alpha) V_y/V_x - V_z/V_x \\\\\n",
    "\\frac{\\partial \\phi}{\\partial x} &=& \\frac{1}{V_x} \\frac{\\partial V_x}{\\partial x} - \\frac{\\Delta}{V_x}\n",
    "\\end{eqnarray}\n",
    "$$"
   ]
  },
  {
   "cell_type": "code",
   "execution_count": 4,
   "metadata": {
    "collapsed": true
   },
   "outputs": [],
   "source": [
    "def zimmerman_func(x, t, params):\n",
    "    \n",
    "    result = np.zeros(x.shape)\n",
    "    \n",
    "    omega = params['omega']\n",
    "    alpha = params['alpha']\n",
    "    tau = params['tau']\n",
    "    delta = params['delta']\n",
    "    \n",
    "    omega_tau = omega*tau\n",
    "    \n",
    "    #setting up v_x derivative\n",
    "    result[0] = (omega_tau *np.cos(alpha) *x[0] *x[2] +delta +x[0]**2)/(1-x[0]**2)\n",
    "    \n",
    "    #v_y derivative\n",
    "    result[1] = (omega_tau *np.sin(alpha) *x[2] -x[1])/x[0]\n",
    "    \n",
    "    #v_Z derivative\n",
    "    result[2] = omega_tau *np.cos(alpha) - omega_tau *np.sin(alpha) *x[1]/x[0] - x[2]/x[0]\n",
    "    \n",
    "    #potential derivative\n",
    "    result[3] = (result[0] - delta)/x[0]\n",
    "    \n",
    "    return result"
   ]
  },
  {
   "cell_type": "code",
   "execution_count": 5,
   "metadata": {
    "collapsed": true
   },
   "outputs": [],
   "source": [
    "def odeint_zimmerman(zimmerman_func, y0, params, dx=1e-5):\n",
    "    \n",
    "    y = y0\n",
    "    x = 0\n",
    "    \n",
    "    result = []\n",
    "    x_space = []\n",
    "    \n",
    "    while y[0] < 1:\n",
    "        #print(y)\n",
    "        result.append(y)\n",
    "        x_space.append(x)\n",
    "        y = y + dx *zimmerman_func(y, 0, params)\n",
    "        x = x + dx     \n",
    "    \n",
    "    return np.array(result), np.array(x_space)"
   ]
  },
  {
   "cell_type": "code",
   "execution_count": 6,
   "metadata": {
    "collapsed": true
   },
   "outputs": [],
   "source": [
    "params = {'omega': 1, 'alpha': 20 *np.pi/180, 'tau':1e1, 'delta': 1}\n",
    "\n",
    "y0 = np.array([1e-6, 0, 0, 0])\n",
    "\n",
    "soln, x = odeint_zimmerman(zimmerman_func, y0, params, dx=1e-6)"
   ]
  },
  {
   "cell_type": "raw",
   "metadata": {},
   "source": [
    "params = {'omega': 1, 'alpha': 20 *np.pi/180, 'tau':1, 'delta': 10}\n",
    "n_points = 20000\n",
    "\n",
    "X = np.linspace(0, 10, n_points)\n",
    "y0 = np.array([1e-6, 0, 0, 0])\n",
    "\n",
    "soln = odeint(zimmerman_func, y0=y0, t=X, args=(params,))\n",
    "\n",
    "i = 0\n",
    "while i < len(X) and soln[i, 0] < 1:\n",
    "    i += 1\n",
    "\n",
    "x_max = X[i-1]\n",
    "\n",
    "#n_points = 1000\n",
    "\n",
    "X = np.linspace(0, x_max, n_points)\n",
    "y0 = np.array([1e-6, 0, 0, 0])\n",
    "\n",
    "soln = odeint(zimmerman_func, y0=y0, t=X, args=(params,))\n",
    "\n",
    "\n",
    "fig, ax = plt.subplots(figsize=(6,6))\n",
    "plt.plot(X, soln[:,0], label=r'$V_x$')\n",
    "plt.plot(X, soln[:,1], label=r'$V_y$')\n",
    "plt.plot(X, soln[:,2], label=r'$V_z$')\n",
    "plt.plot(X, soln[:,3], label=r'$\\phi$')\n",
    "plt.ylim(0, 1.5)\n",
    "\n",
    "plt.plot([0, 100], [1, 1], color='gray', dashes=[10, 5])\n",
    "plt.xlim(0, x_max)\n",
    "\n",
    "print(x_max)\n",
    "\n",
    "plt.legend()"
   ]
  },
  {
   "cell_type": "code",
   "execution_count": null,
   "metadata": {
    "collapsed": true
   },
   "outputs": [],
   "source": []
  },
  {
   "cell_type": "markdown",
   "metadata": {},
   "source": [
    "## Before proceeding we'll try to work with ode object in "
   ]
  },
  {
   "cell_type": "code",
   "execution_count": 31,
   "metadata": {
    "collapsed": true
   },
   "outputs": [],
   "source": [
    "from scipy.integrate import ode\n",
    "\n",
    "\n",
    "def zimmerman_func_i(t, x, params):\n",
    "    \n",
    "    result = np.zeros(x.shape)\n",
    "    \n",
    "    omega = params['omega']\n",
    "    alpha = params['alpha']\n",
    "    tau = params['tau']\n",
    "    delta = params['delta']\n",
    "    \n",
    "    omega_tau = omega*tau\n",
    "    \n",
    "    #setting up v_x derivative\n",
    "    result[0] = (omega_tau *np.cos(alpha) *x[0] *x[2] +delta +x[0]**2)/(1-x[0]**2)\n",
    "    \n",
    "    #v_y derivative\n",
    "    result[1] = (omega_tau *np.sin(alpha) *x[2] -x[1])/x[0]\n",
    "    \n",
    "    #v_Z derivative\n",
    "    result[2] = omega_tau *np.cos(alpha) - omega_tau *np.sin(alpha) *x[1]/x[0] - x[2]/x[0]\n",
    "    \n",
    "    #potential derivative\n",
    "    #result[3] = (result[0])/x[0]\n",
    "    result[3] = (result[0] - delta)/x[0]\n",
    "    \n",
    "    return result"
   ]
  },
  {
   "cell_type": "code",
   "execution_count": 40,
   "metadata": {
    "collapsed": true
   },
   "outputs": [],
   "source": [
    "def dynamic_stepping(y, y_prev, dx0, dx_min = 1e-7, dx_max=10, dy=5e-4):\n",
    "    grad = np.abs(y[0] - y_prev[0])/dx0\n",
    "    dx = dy/grad\n",
    "    \n",
    "    if dx < dx_min:\n",
    "        dx = dx_min\n",
    "    elif dx > dx_max:\n",
    "        dx = dx_max\n",
    "        \n",
    "    dx = np.sqrt(dx0 *dx)\n",
    "        \n",
    "    return dx"
   ]
  },
  {
   "cell_type": "code",
   "execution_count": 41,
   "metadata": {
    "collapsed": true
   },
   "outputs": [],
   "source": [
    "def zimmerman_solve(func, params, y0 = np.array([1e-3, 1e-3, 1e-3, 1e-3]), x0=0, vx_max=1, dx=1e-3, nsteps=10000):\n",
    "    \n",
    "    integrator = ode(func).set_integrator('dop853', nsteps=nsteps)\n",
    "    integrator.set_initial_value(y0, x0).set_f_params(params)\n",
    "    \n",
    "    x = [x0]\n",
    "    y = [y0]\n",
    "    \n",
    "    soln = y0\n",
    "    \n",
    "#     grad = []\n",
    "\n",
    "    steps = []\n",
    "    \n",
    "    \n",
    "    while integrator.successful() and soln[0] <= vx_max:\n",
    "        \n",
    "        time = integrator.t+dx\n",
    "        \n",
    "        soln = integrator.integrate(time)\n",
    "\n",
    "        x.append(time)\n",
    "        y.append(soln)\n",
    "        \n",
    "        steps.append(dx)\n",
    "        \n",
    "        dx = dynamic_stepping(y[-1], y[-2], dx)\n",
    "        \n",
    "        #print(y[-1], y[-2])\n",
    "        \n",
    "#         grad_val = np.abs(y[-1][0] - y[-2][0]) /np.abs(y[-1][0])\n",
    "#         grad.append(grad_val)\n",
    "        \n",
    "        #print(x, soln, integrator.t, integrator.successful())\n",
    "        \n",
    "    x = np.array(x)\n",
    "    y = np.array(y)\n",
    "    \n",
    "    return x, y, steps"
   ]
  },
  {
   "cell_type": "code",
   "execution_count": 66,
   "metadata": {},
   "outputs": [
    {
     "name": "stderr",
     "output_type": "stream",
     "text": [
      "/usr/lib64/python3.4/site-packages/scipy/integrate/_ode.py:1035: UserWarning: dop853: larger nmax is needed\n",
      "  self.messages.get(idid, 'Unexpected idid=%s' % idid))\n"
     ]
    },
    {
     "data": {
      "text/plain": [
       "<matplotlib.legend.Legend at 0x7ffb7b8ad668>"
      ]
     },
     "execution_count": 66,
     "metadata": {},
     "output_type": "execute_result"
    },
    {
     "data": {
      "image/png": "[encoded data removed]",
      "text/plain": [
       "<matplotlib.figure.Figure at 0x7ffb7b986cc0>"
      ]
     },
     "metadata": {},
     "output_type": "display_data"
    }
   ],
   "source": [
    "params = {'omega': 1, 'alpha': 80 *np.pi/180, 'tau': 100, 'delta': 1}\n",
    "#params = {'omega': 1, 'alpha': 20 *np.pi/180, 'tau':1, 'delta': 10}\n",
    "\n",
    "#y0 = np.array([1e-2, 1e-2, 1e-2, 1e-2])\n",
    "y0 = np.array([1e-6, 1e-6, 1e-6, 1e-6])\n",
    "\n",
    "x, y, steps = zimmerman_solve(zimmerman_func_i, params, dx=1e-6, y0=y0)\n",
    "\n",
    "fig, ax = plt.subplots(figsize=(6,6))\n",
    "\n",
    "# plt.semilogx(x, y[:,0], label=r'$V_x$')\n",
    "# plt.semilogx(x, y[:,1], label=r'$V_y$')\n",
    "# plt.semilogx(x, y[:,2], label=r'$V_z$')\n",
    "# plt.semilogx(x, y[:,3], label=r'$\\phi$')\n",
    "\n",
    "plt.plot(x, y[:,0], label=r'$V_x$')\n",
    "plt.plot(x, y[:,1], label=r'$V_y$')\n",
    "plt.plot(x, y[:,2], label=r'$V_z$')\n",
    "plt.plot(x, y[:,3], label=r'$\\phi$')\n",
    "plt.ylim(0, 2)\n",
    "\n",
    "plt.plot([0, 100], [1, 1], color='gray', dashes=[10, 5])\n",
    "plt.xlim(0, max(x))\n",
    "\n",
    "plt.legend()"
   ]
  },
  {
   "cell_type": "code",
   "execution_count": 64,
   "metadata": {},
   "outputs": [
    {
     "name": "stdout",
     "output_type": "stream",
     "text": [
      "1963\n"
     ]
    },
    {
     "data": {
      "text/plain": [
       "[<matplotlib.lines.Line2D at 0x7ffb7ba9c400>]"
      ]
     },
     "execution_count": 64,
     "metadata": {},
     "output_type": "execute_result"
    },
    {
     "data": {
      "image/png": "[encoded data removed]",
      "text/plain": [
       "<matplotlib.figure.Figure at 0x7ffb7bd60400>"
      ]
     },
     "metadata": {},
     "output_type": "display_data"
    }
   ],
   "source": [
    "print(len(steps))\n",
    "plt.semilogy(np.cumsum(steps), steps)"
   ]
  },
  {
   "cell_type": "code",
   "execution_count": 12,
   "metadata": {},
   "outputs": [
    {
     "data": {
      "text/plain": [
       "array([  1.00000000e-04,   3.23584214e-04,   6.57902614e-04, ...,\n",
       "         5.60783821e-01,   5.60793821e-01,   5.60803821e-01])"
      ]
     },
     "execution_count": 12,
     "metadata": {},
     "output_type": "execute_result"
    }
   ],
   "source": [
    "np.cumsum(steps)"
   ]
  },
  {
   "cell_type": "code",
   "execution_count": 13,
   "metadata": {},
   "outputs": [
    {
     "data": {
      "text/plain": [
       "1955"
      ]
     },
     "execution_count": 13,
     "metadata": {},
     "output_type": "execute_result"
    }
   ],
   "source": [
    "len(steps)"
   ]
  },
  {
   "cell_type": "markdown",
   "metadata": {},
   "source": [
    "## Conversion to physical parameters"
   ]
  },
  {
   "cell_type": "markdown",
   "metadata": {},
   "source": [
    "### Coloumb logarithm\n",
    "\n",
    "$$\n",
    "\\log \\Lambda = \\log \\left( \\frac{4 \\pi \\lambda_D}{\\lambda_{qm}} \\right)\n",
    "$$\n"
   ]
  },
  {
   "cell_type": "code",
   "execution_count": 14,
   "metadata": {
    "collapsed": true
   },
   "outputs": [],
   "source": [
    "def reduced_mass(mass_a, mass_b):\n",
    "    '''\n",
    "    Return reduced mass\n",
    "    --------------------\n",
    "    \n",
    "    params:\n",
    "    mass_a - float, mass 1\n",
    "    mass_b - float, mass 2\n",
    "    '''\n",
    "    \n",
    "    return mass_a *mass_b/(mass_a + mass_b)\n"
   ]
  },
  {
   "cell_type": "code",
   "execution_count": 15,
   "metadata": {
    "collapsed": true
   },
   "outputs": [],
   "source": [
    "def quantum_length(params):\n",
    "    '''\n",
    "    Return quantum length mass\n",
    "    --------------------\n",
    "    \n",
    "    params:\n",
    "    params - dictionary, plasma parameters\n",
    "    '''\n",
    "        \n",
    "    debye_length = params['debye_length']\n",
    "    \n",
    "    T_e = params['T_e']\n",
    "    T_i = params['T_i']\n",
    "    \n",
    "    m_i_amu = params['m_i']\n",
    "    m_i = m_i_amu*1e-3/const.N_A\n",
    "    \n",
    "    reduced_mass_ii = reduced_mass(m_i, m_i)\n",
    "    \n",
    "    quantum_length = const.h/np.sqrt(3*T_i *reduced_mass_ii *const.e)\n",
    "    \n",
    "    return quantum_length\n"
   ]
  },
  {
   "cell_type": "code",
   "execution_count": 16,
   "metadata": {
    "collapsed": true
   },
   "outputs": [],
   "source": [
    "def coulomb_log_precise(params, mach_number=1, nsteps = 500):\n",
    "    \n",
    "    debye_length = params['debye_length']\n",
    "    \n",
    "    T_e = params['T_e']\n",
    "    T_i = params['T_i']\n",
    "    \n",
    "    m_i_amu = params['m_i']\n",
    "    m_i = m_i_amu*1e-3/const.N_A\n",
    "    \n",
    "    reduced_mass_ii = reduced_mass(m_i, m_i)\n",
    "    \n",
    "    quantum_length_ii = const.h/np.sqrt(3*T_i *reduced_mass_ii *const.e)\n",
    "    \n",
    "    length_ratio = quantum_length_ii/4 /np.pi /debye_length\n",
    "    \n",
    "    integrand = lambda x, scale: 0.5 *x/(scale**2 + x)**2\n",
    "    \n",
    "    result = integrate.quad(integrand, 0, mach_number, args=(length_ratio,), limit=nsteps)\n",
    "    \n",
    "    return result"
   ]
  },
  {
   "cell_type": "code",
   "execution_count": 17,
   "metadata": {
    "collapsed": true
   },
   "outputs": [],
   "source": [
    "def coulomb_log_approx(params):\n",
    "    \n",
    "    result = np.log(4 *np.pi *debye_length/quantum_length_ii)    "
   ]
  },
  {
   "cell_type": "code",
   "execution_count": 18,
   "metadata": {},
   "outputs": [
    {
     "name": "stdout",
     "output_type": "stream",
     "text": [
      "ql = 5.348e-12, dl = 1.662e-06\n"
     ]
    },
    {
     "data": {
      "text/plain": [
       "15.177942581708924"
      ]
     },
     "execution_count": 18,
     "metadata": {},
     "output_type": "execute_result"
    }
   ],
   "source": [
    "params = {'omega': 1, 'alpha': 20 *np.pi/180, 'tau':1e-2, 'delta': 0, 'T_e': 10, 'T_i': 10, 'n_e': 1e20, \n",
    "          'B': np.array([1, 0, 0]), 'm_i': 50}\n",
    "\n",
    "import scipy.constants as const\n",
    "\n",
    "T_e = params['T_e']\n",
    "T_i = params['T_e']\n",
    "\n",
    "n_e = params['n_e']\n",
    "n_i = n_e\n",
    "m_i_amu = params['m_i']\n",
    "m_i = m_i_amu*1e-3/const.N_A\n",
    "m_i2 = 2*1e-3/const.N_A\n",
    "\n",
    "\n",
    "def reduced_mass(mass_a, mass_b):\n",
    "    return mass_a *mass_b/(mass_a + mass_b)\n",
    "\n",
    "debye_length = np.sqrt(const.epsilon_0 /const.e /(n_e/T_e))\n",
    "debye_length = np.sqrt(const.epsilon_0 /const.e /(n_e/T_e + n_i/T_i))\n",
    "reduced_mass_ii = reduced_mass(m_i, m_i2)\n",
    "quantum_length_ii = const.h/np.sqrt(3*T_i *reduced_mass_ii *const.e)\n",
    "\n",
    "coulomb_log_ii = np.log(4 *np.pi *debye_length/quantum_length_ii)\n",
    "\n",
    "print(\"ql = {0:.3e}, dl = {1:.3e}\".format(quantum_length_ii, debye_length))\n",
    "coulomb_log_ii"
   ]
  },
  {
   "cell_type": "code",
   "execution_count": 19,
   "metadata": {
    "collapsed": true
   },
   "outputs": [],
   "source": [
    "def func_c(x, scale):\n",
    "    return 0.5 *x/(scale**2 + x)**2"
   ]
  },
  {
   "cell_type": "code",
   "execution_count": 20,
   "metadata": {
    "collapsed": true
   },
   "outputs": [],
   "source": [
    "from scipy import integrate"
   ]
  },
  {
   "cell_type": "code",
   "execution_count": 21,
   "metadata": {},
   "outputs": [
    {
     "data": {
      "text/plain": [
       "(14.677942581708988, 1.5244440152444472e-08)"
      ]
     },
     "execution_count": 21,
     "metadata": {},
     "output_type": "execute_result"
    }
   ],
   "source": [
    "scale = quantum_length_ii/4 /np.pi /debye_length\n",
    "\n",
    "coulomb_log_ii_precise = integrate.quad(func_c, 0, 1, args=(scale,), limit=400)\n",
    "coulomb_log_ii_precise"
   ]
  },
  {
   "cell_type": "code",
   "execution_count": 22,
   "metadata": {
    "collapsed": true
   },
   "outputs": [],
   "source": [
    "def couloumb_log_approx(n_e, T_e):\n",
    "    return 17.3-0.5*np.log(n_e/1e20) + 1.5 *np.log(T_e/1e3)"
   ]
  },
  {
   "cell_type": "code",
   "execution_count": 23,
   "metadata": {},
   "outputs": [
    {
     "data": {
      "text/plain": [
       "10.392244721017864"
      ]
     },
     "execution_count": 23,
     "metadata": {},
     "output_type": "execute_result"
    }
   ],
   "source": [
    "couloumb_log_approx(n_e, T_i)"
   ]
  },
  {
   "cell_type": "code",
   "execution_count": 24,
   "metadata": {},
   "outputs": [
    {
     "data": {
      "text/plain": [
       "8.617330337217213e-05"
      ]
     },
     "execution_count": 24,
     "metadata": {},
     "output_type": "execute_result"
    }
   ],
   "source": [
    "const.k/const.e"
   ]
  }
 ],
 "metadata": {
  "kernelspec": {
   "display_name": "Python 3",
   "language": "python",
   "name": "python3"
  },
  "language_info": {
   "codemirror_mode": {
    "name": "ipython",
    "version": 3
   },
   "file_extension": ".py",
   "mimetype": "text/x-python",
   "name": "python",
   "nbconvert_exporter": "python",
   "pygments_lexer": "ipython3",
   "version": "3.4.5"
  }
 },
 "nbformat": 4,
 "nbformat_minor": 2
}
